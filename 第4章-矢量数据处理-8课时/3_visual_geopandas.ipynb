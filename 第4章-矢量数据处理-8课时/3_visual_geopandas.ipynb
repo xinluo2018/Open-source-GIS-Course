{
 "cells": [
  {
   "cell_type": "markdown",
   "metadata": {},
   "source": [
    "## **利用geopandas进行矢量数据快速读、写、及可视化.**"
   ]
  },
  {
   "cell_type": "code",
   "execution_count": 1,
   "metadata": {},
   "outputs": [],
   "source": [
    "import geopandas as gpd\n",
    "import matplotlib.pyplot as plt\n",
    "import numpy as np\n"
   ]
  },
  {
   "cell_type": "code",
   "execution_count": 2,
   "metadata": {},
   "outputs": [],
   "source": [
    "path_kunming = 'data/Section-2/kunming_districts.shp'\n",
    "path_kunming_out_1 = 'data/Section-4/vector_out_1.shp'\n",
    "path_kunming_out_2 = 'data/Section-4/vector_out_2.shp'\n"
   ]
  },
  {
   "cell_type": "markdown",
   "metadata": {},
   "source": [
    "### 1. 读入矢量数据"
   ]
  },
  {
   "cell_type": "code",
   "execution_count": 3,
   "metadata": {},
   "outputs": [
    {
     "data": {
      "text/html": [
       "<div>\n",
       "<style scoped>\n",
       "    .dataframe tbody tr th:only-of-type {\n",
       "        vertical-align: middle;\n",
       "    }\n",
       "\n",
       "    .dataframe tbody tr th {\n",
       "        vertical-align: top;\n",
       "    }\n",
       "\n",
       "    .dataframe thead th {\n",
       "        text-align: right;\n",
       "    }\n",
       "</style>\n",
       "<table border=\"1\" class=\"dataframe\">\n",
       "  <thead>\n",
       "    <tr style=\"text-align: right;\">\n",
       "      <th></th>\n",
       "      <th>dt_adcode</th>\n",
       "      <th>dt_name</th>\n",
       "      <th>ct_adcode</th>\n",
       "      <th>ct_name</th>\n",
       "      <th>pr_adcode</th>\n",
       "      <th>pr_name</th>\n",
       "      <th>cn_adcode</th>\n",
       "      <th>cn_name</th>\n",
       "      <th>geometry</th>\n",
       "    </tr>\n",
       "  </thead>\n",
       "  <tbody>\n",
       "    <tr>\n",
       "      <th>0</th>\n",
       "      <td>530102</td>\n",
       "      <td>五华区</td>\n",
       "      <td>530100</td>\n",
       "      <td>昆明市</td>\n",
       "      <td>530000</td>\n",
       "      <td>云南省</td>\n",
       "      <td>100000</td>\n",
       "      <td>中华人民共和国</td>\n",
       "      <td>MULTIPOLYGON (((102.71331 25.13651, 102.71547 ...</td>\n",
       "    </tr>\n",
       "    <tr>\n",
       "      <th>1</th>\n",
       "      <td>530103</td>\n",
       "      <td>盘龙区</td>\n",
       "      <td>530100</td>\n",
       "      <td>昆明市</td>\n",
       "      <td>530000</td>\n",
       "      <td>云南省</td>\n",
       "      <td>100000</td>\n",
       "      <td>中华人民共和国</td>\n",
       "      <td>POLYGON ((102.71668 25.04473, 102.71663 25.045...</td>\n",
       "    </tr>\n",
       "    <tr>\n",
       "      <th>2</th>\n",
       "      <td>530111</td>\n",
       "      <td>官渡区</td>\n",
       "      <td>530100</td>\n",
       "      <td>昆明市</td>\n",
       "      <td>530000</td>\n",
       "      <td>云南省</td>\n",
       "      <td>100000</td>\n",
       "      <td>中华人民共和国</td>\n",
       "      <td>POLYGON ((102.71717 25.03341, 102.71792 25.033...</td>\n",
       "    </tr>\n",
       "    <tr>\n",
       "      <th>3</th>\n",
       "      <td>530112</td>\n",
       "      <td>西山区</td>\n",
       "      <td>530100</td>\n",
       "      <td>昆明市</td>\n",
       "      <td>530000</td>\n",
       "      <td>云南省</td>\n",
       "      <td>100000</td>\n",
       "      <td>中华人民共和国</td>\n",
       "      <td>MULTIPOLYGON (((102.50726 24.86019, 102.50689 ...</td>\n",
       "    </tr>\n",
       "    <tr>\n",
       "      <th>4</th>\n",
       "      <td>530113</td>\n",
       "      <td>东川区</td>\n",
       "      <td>530100</td>\n",
       "      <td>昆明市</td>\n",
       "      <td>530000</td>\n",
       "      <td>云南省</td>\n",
       "      <td>100000</td>\n",
       "      <td>中华人民共和国</td>\n",
       "      <td>POLYGON ((102.80340 26.30291, 102.80537 26.303...</td>\n",
       "    </tr>\n",
       "    <tr>\n",
       "      <th>5</th>\n",
       "      <td>530114</td>\n",
       "      <td>呈贡区</td>\n",
       "      <td>530100</td>\n",
       "      <td>昆明市</td>\n",
       "      <td>530000</td>\n",
       "      <td>云南省</td>\n",
       "      <td>100000</td>\n",
       "      <td>中华人民共和国</td>\n",
       "      <td>POLYGON ((102.85321 24.69792, 102.85168 24.698...</td>\n",
       "    </tr>\n",
       "    <tr>\n",
       "      <th>6</th>\n",
       "      <td>530115</td>\n",
       "      <td>晋宁区</td>\n",
       "      <td>530100</td>\n",
       "      <td>昆明市</td>\n",
       "      <td>530000</td>\n",
       "      <td>云南省</td>\n",
       "      <td>100000</td>\n",
       "      <td>中华人民共和国</td>\n",
       "      <td>POLYGON ((102.73979 24.81731, 102.74137 24.815...</td>\n",
       "    </tr>\n",
       "    <tr>\n",
       "      <th>7</th>\n",
       "      <td>530124</td>\n",
       "      <td>富民县</td>\n",
       "      <td>530100</td>\n",
       "      <td>昆明市</td>\n",
       "      <td>530000</td>\n",
       "      <td>云南省</td>\n",
       "      <td>100000</td>\n",
       "      <td>中华人民共和国</td>\n",
       "      <td>POLYGON ((102.63768 25.36767, 102.64085 25.367...</td>\n",
       "    </tr>\n",
       "    <tr>\n",
       "      <th>8</th>\n",
       "      <td>530125</td>\n",
       "      <td>宜良县</td>\n",
       "      <td>530100</td>\n",
       "      <td>昆明市</td>\n",
       "      <td>530000</td>\n",
       "      <td>云南省</td>\n",
       "      <td>100000</td>\n",
       "      <td>中华人民共和国</td>\n",
       "      <td>POLYGON ((103.27379 25.25786, 103.27332 25.255...</td>\n",
       "    </tr>\n",
       "    <tr>\n",
       "      <th>9</th>\n",
       "      <td>530126</td>\n",
       "      <td>石林彝族自治县</td>\n",
       "      <td>530100</td>\n",
       "      <td>昆明市</td>\n",
       "      <td>530000</td>\n",
       "      <td>云南省</td>\n",
       "      <td>100000</td>\n",
       "      <td>中华人民共和国</td>\n",
       "      <td>POLYGON ((103.66655 24.72420, 103.66542 24.723...</td>\n",
       "    </tr>\n",
       "  </tbody>\n",
       "</table>\n",
       "</div>"
      ],
      "text/plain": [
       "  dt_adcode  dt_name ct_adcode ct_name pr_adcode pr_name cn_adcode  cn_name  \\\n",
       "0    530102      五华区    530100     昆明市    530000     云南省    100000  中华人民共和国   \n",
       "1    530103      盘龙区    530100     昆明市    530000     云南省    100000  中华人民共和国   \n",
       "2    530111      官渡区    530100     昆明市    530000     云南省    100000  中华人民共和国   \n",
       "3    530112      西山区    530100     昆明市    530000     云南省    100000  中华人民共和国   \n",
       "4    530113      东川区    530100     昆明市    530000     云南省    100000  中华人民共和国   \n",
       "5    530114      呈贡区    530100     昆明市    530000     云南省    100000  中华人民共和国   \n",
       "6    530115      晋宁区    530100     昆明市    530000     云南省    100000  中华人民共和国   \n",
       "7    530124      富民县    530100     昆明市    530000     云南省    100000  中华人民共和国   \n",
       "8    530125      宜良县    530100     昆明市    530000     云南省    100000  中华人民共和国   \n",
       "9    530126  石林彝族自治县    530100     昆明市    530000     云南省    100000  中华人民共和国   \n",
       "\n",
       "                                            geometry  \n",
       "0  MULTIPOLYGON (((102.71331 25.13651, 102.71547 ...  \n",
       "1  POLYGON ((102.71668 25.04473, 102.71663 25.045...  \n",
       "2  POLYGON ((102.71717 25.03341, 102.71792 25.033...  \n",
       "3  MULTIPOLYGON (((102.50726 24.86019, 102.50689 ...  \n",
       "4  POLYGON ((102.80340 26.30291, 102.80537 26.303...  \n",
       "5  POLYGON ((102.85321 24.69792, 102.85168 24.698...  \n",
       "6  POLYGON ((102.73979 24.81731, 102.74137 24.815...  \n",
       "7  POLYGON ((102.63768 25.36767, 102.64085 25.367...  \n",
       "8  POLYGON ((103.27379 25.25786, 103.27332 25.255...  \n",
       "9  POLYGON ((103.66655 24.72420, 103.66542 24.723...  "
      ]
     },
     "execution_count": 3,
     "metadata": {},
     "output_type": "execute_result"
    }
   ],
   "source": [
    "kunming_gpd = gpd.read_file(path_kunming)\n",
    "kunming_gpd.head(10)\n"
   ]
  },
  {
   "cell_type": "markdown",
   "metadata": {},
   "source": [
    "### 2. 可视化矢量数据"
   ]
  },
  {
   "cell_type": "code",
   "execution_count": 7,
   "metadata": {},
   "outputs": [
    {
     "data": {
      "text/plain": [
       "<Axes: >"
      ]
     },
     "execution_count": 7,
     "metadata": {},
     "output_type": "execute_result"
    },
    {
     "data": {
      "image/png": "[encoded data removed]",
      "text/plain": [
       "<Figure size 800x400 with 2 Axes>"
      ]
     },
     "metadata": {},
     "output_type": "display_data"
    }
   ],
   "source": [
    "fig, ax = plt.subplots(1,2,figsize=(8,4))\n",
    "kunming_gpd.plot(ax=ax[0], column='dt_name')\n",
    "kunming_chenggong_gpd = kunming_gpd.iloc[6:7]\n",
    "kunming_chenggong_gpd.plot(ax=ax[1], color='green')\n"
   ]
  },
  {
   "cell_type": "markdown",
   "metadata": {},
   "source": [
    "#### **3. 写出矢量文件**"
   ]
  },
  {
   "cell_type": "markdown",
   "metadata": {},
   "source": [
    "#### 3.1 写出只含有特定字段(name)的矢量文件"
   ]
  },
  {
   "cell_type": "code",
   "execution_count": 8,
   "metadata": {},
   "outputs": [
    {
     "data": {
      "text/html": [
       "<div>\n",
       "<style scoped>\n",
       "    .dataframe tbody tr th:only-of-type {\n",
       "        vertical-align: middle;\n",
       "    }\n",
       "\n",
       "    .dataframe tbody tr th {\n",
       "        vertical-align: top;\n",
       "    }\n",
       "\n",
       "    .dataframe thead th {\n",
       "        text-align: right;\n",
       "    }\n",
       "</style>\n",
       "<table border=\"1\" class=\"dataframe\">\n",
       "  <thead>\n",
       "    <tr style=\"text-align: right;\">\n",
       "      <th></th>\n",
       "      <th>dt_name</th>\n",
       "      <th>geometry</th>\n",
       "    </tr>\n",
       "  </thead>\n",
       "  <tbody>\n",
       "    <tr>\n",
       "      <th>0</th>\n",
       "      <td>五华区</td>\n",
       "      <td>MULTIPOLYGON (((102.71331 25.13651, 102.71547 ...</td>\n",
       "    </tr>\n",
       "    <tr>\n",
       "      <th>1</th>\n",
       "      <td>盘龙区</td>\n",
       "      <td>POLYGON ((102.71668 25.04473, 102.71663 25.045...</td>\n",
       "    </tr>\n",
       "    <tr>\n",
       "      <th>2</th>\n",
       "      <td>官渡区</td>\n",
       "      <td>POLYGON ((102.71717 25.03341, 102.71792 25.033...</td>\n",
       "    </tr>\n",
       "    <tr>\n",
       "      <th>3</th>\n",
       "      <td>西山区</td>\n",
       "      <td>MULTIPOLYGON (((102.50726 24.86019, 102.50689 ...</td>\n",
       "    </tr>\n",
       "    <tr>\n",
       "      <th>4</th>\n",
       "      <td>东川区</td>\n",
       "      <td>POLYGON ((102.80340 26.30291, 102.80537 26.303...</td>\n",
       "    </tr>\n",
       "  </tbody>\n",
       "</table>\n",
       "</div>"
      ],
      "text/plain": [
       "  dt_name                                           geometry\n",
       "0     五华区  MULTIPOLYGON (((102.71331 25.13651, 102.71547 ...\n",
       "1     盘龙区  POLYGON ((102.71668 25.04473, 102.71663 25.045...\n",
       "2     官渡区  POLYGON ((102.71717 25.03341, 102.71792 25.033...\n",
       "3     西山区  MULTIPOLYGON (((102.50726 24.86019, 102.50689 ...\n",
       "4     东川区  POLYGON ((102.80340 26.30291, 102.80537 26.303..."
      ]
     },
     "execution_count": 8,
     "metadata": {},
     "output_type": "execute_result"
    }
   ],
   "source": [
    "kunming_out_1 = kunming_gpd[['dt_name', 'geometry']]\n",
    "kunming_out_1.head()\n"
   ]
  },
  {
   "cell_type": "code",
   "execution_count": 9,
   "metadata": {},
   "outputs": [],
   "source": [
    "kunming_out_1.to_file(path_kunming_out_1)\n"
   ]
  },
  {
   "cell_type": "markdown",
   "metadata": {},
   "source": [
    "#### 3.1 写出只含有特定特征（呈贡区）矢量文件\n"
   ]
  },
  {
   "cell_type": "code",
   "execution_count": 10,
   "metadata": {},
   "outputs": [],
   "source": [
    "id_sel = np.where(kunming_gpd['dt_name']=='呈贡区')[0]\n",
    "id_sel\n",
    "kunming_out_2 = kunming_gpd.iloc[id_sel]\n"
   ]
  },
  {
   "cell_type": "code",
   "execution_count": 11,
   "metadata": {},
   "outputs": [],
   "source": [
    "kunming_out_2.to_file(path_kunming_out_2)\n"
   ]
  },
  {
   "cell_type": "markdown",
   "metadata": {},
   "source": [
    "### 验证写出结果"
   ]
  },
  {
   "cell_type": "code",
   "execution_count": 12,
   "metadata": {},
   "outputs": [
    {
     "data": {
      "text/html": [
       "<div>\n",
       "<style scoped>\n",
       "    .dataframe tbody tr th:only-of-type {\n",
       "        vertical-align: middle;\n",
       "    }\n",
       "\n",
       "    .dataframe tbody tr th {\n",
       "        vertical-align: top;\n",
       "    }\n",
       "\n",
       "    .dataframe thead th {\n",
       "        text-align: right;\n",
       "    }\n",
       "</style>\n",
       "<table border=\"1\" class=\"dataframe\">\n",
       "  <thead>\n",
       "    <tr style=\"text-align: right;\">\n",
       "      <th></th>\n",
       "      <th>dt_adcode</th>\n",
       "      <th>dt_name</th>\n",
       "      <th>ct_adcode</th>\n",
       "      <th>ct_name</th>\n",
       "      <th>pr_adcode</th>\n",
       "      <th>pr_name</th>\n",
       "      <th>cn_adcode</th>\n",
       "      <th>cn_name</th>\n",
       "      <th>geometry</th>\n",
       "    </tr>\n",
       "  </thead>\n",
       "  <tbody>\n",
       "    <tr>\n",
       "      <th>0</th>\n",
       "      <td>530114</td>\n",
       "      <td>???</td>\n",
       "      <td>530100</td>\n",
       "      <td>???</td>\n",
       "      <td>530000</td>\n",
       "      <td>???</td>\n",
       "      <td>100000</td>\n",
       "      <td>???????</td>\n",
       "      <td>POLYGON ((102.85321 24.69792, 102.85168 24.698...</td>\n",
       "    </tr>\n",
       "  </tbody>\n",
       "</table>\n",
       "</div>"
      ],
      "text/plain": [
       "  dt_adcode dt_name ct_adcode ct_name pr_adcode pr_name cn_adcode  cn_name  \\\n",
       "0    530114     ???    530100     ???    530000     ???    100000  ???????   \n",
       "\n",
       "                                            geometry  \n",
       "0  POLYGON ((102.85321 24.69792, 102.85168 24.698...  "
      ]
     },
     "execution_count": 12,
     "metadata": {},
     "output_type": "execute_result"
    }
   ],
   "source": [
    "kunming_out_2 = gpd.read_file(path_kunming_out_2)\n",
    "kunming_out_2\n"
   ]
  },
  {
   "cell_type": "code",
   "execution_count": null,
   "metadata": {},
   "outputs": [],
   "source": [
    "\n",
    "\n",
    "\n",
    "\n"
   ]
  }
 ],
 "metadata": {
  "kernelspec": {
   "display_name": "venv",
   "language": "python",
   "name": "python3"
  },
  "language_info": {
   "codemirror_mode": {
    "name": "ipython",
    "version": 3
   },
   "file_extension": ".py",
   "mimetype": "text/x-python",
   "name": "python",
   "nbconvert_exporter": "python",
   "pygments_lexer": "ipython3",
   "version": "3.9.17"
  },
  "orig_nbformat": 4
 },
 "nbformat": 4,
 "nbformat_minor": 2
}
