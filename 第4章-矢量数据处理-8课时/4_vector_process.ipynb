{
 "cells": [
  {
   "attachments": {},
   "cell_type": "markdown",
   "metadata": {},
   "source": [
    "## **利用ogr开源库进行矢量文件的读写**\n",
    "**1. 投影转换**  \n",
    "**2. 计算面要素的面积信息，添加面积字段/删除面积字段**  \n",
    "**3. 获取面要素中心点，新建中心点图层**  \n",
    "**4. 根据地理信息新建面要素**  \n"
   ]
  },
  {
   "cell_type": "code",
   "execution_count": 8,
   "metadata": {},
   "outputs": [],
   "source": [
    "from osgeo import ogr\n",
    "from osgeo import osr\n",
    "import geopandas as gpd\n"
   ]
  },
  {
   "cell_type": "code",
   "execution_count": 9,
   "metadata": {},
   "outputs": [],
   "source": [
    "path_kunming = 'data/Section-2/kunming_districts.shp'\n",
    "path_kunming_utm = 'data/Section-4/kunming_districts_utm.shp'\n",
    "path_kunming_centroid = 'data/Section-4/kunming_districts_wgs84_centroid.shp'\n",
    "path_ynu_vector = 'data/Section-4/ynu_vec_create.shp'\n"
   ]
  },
  {
   "attachments": {},
   "cell_type": "markdown",
   "metadata": {},
   "source": [
    "### 1. Re-project the vector to utm projection.\n",
    "EPSG是European Petroleum Survey Group (欧洲石油调查小组)的缩写,该组织发布了一个坐标参照系统的数据集,数据集对全球收录到的坐标参照系统进行了编码。  \n",
    "wgs84: 4326; wgs84+utm: 326+投影带（如32622）\n"
   ]
  },
  {
   "cell_type": "code",
   "execution_count": 10,
   "metadata": {},
   "outputs": [],
   "source": [
    "### Reprojection\n",
    "data = gpd.read_file(path_kunming)\n",
    "data = data.to_crs(epsg=32648)\n",
    "data.to_file(path_kunming_utm)\n"
   ]
  },
  {
   "cell_type": "code",
   "execution_count": 11,
   "metadata": {},
   "outputs": [
    {
     "name": "stdout",
     "output_type": "stream",
     "text": [
      "Number of layers: 1\n",
      "Number of Features: 14\n",
      "vector extent:  (214587.6929540675, 365546.4511921565, 2699511.4429286188, 2937162.819437231)\n",
      "Number of Fields: 8\n",
      "dt_adcode\n",
      "dt_name\n",
      "ct_adcode\n",
      "ct_name\n",
      "pr_adcode\n",
      "pr_name\n",
      "cn_adcode\n",
      "cn_name\n",
      "\n",
      "Number of features: 14\n",
      "???\n",
      "???\n",
      "???\n",
      "???\n",
      "???\n",
      "???\n",
      "???\n",
      "???\n",
      "???\n",
      "???????\n",
      "???\n",
      "?????????\n",
      "?????????\n",
      "???\n"
     ]
    }
   ],
   "source": [
    "ds = ogr.Open(path_kunming_utm, 1)  ## 0是只读，1是可写\n",
    "print('Number of layers:', ds.GetLayerCount())       ## 图层个数\n",
    "layer = ds.GetLayer(0)\n",
    "print('Number of Features:', layer.GetFeatureCount())  ## 图层0中要素个数\n",
    "fea = layer.GetFeature(0)\n",
    "extent = layer.GetExtent()\n",
    "print('vector extent: ', extent)\n",
    "print('Number of Fields:', fea.GetFieldCount())\n",
    "### 查看有多少个字段Field\n",
    "for i in range(fea.GetFieldCount()):\n",
    "    name_field = fea.GetFieldDefnRef(i).name\n",
    "    print(name_field)\n",
    "print()\n",
    "print('Number of features:', layer.GetFeatureCount())\n",
    "### 查看有多少个特征Feature\n",
    "for i in range(layer.GetFeatureCount()):\n",
    "    fea = layer.GetFeature(i)\n",
    "    name_fea = fea.GetField('dt_name')\n",
    "    print(name_fea)\n",
    "\n",
    "ds = None\n"
   ]
  },
  {
   "attachments": {},
   "cell_type": "markdown",
   "metadata": {},
   "source": [
    "#### 2. 添加/删除面积字段，并计算面积"
   ]
  },
  {
   "cell_type": "code",
   "execution_count": 12,
   "metadata": {},
   "outputs": [
    {
     "data": {
      "text/plain": [
       "0"
      ]
     },
     "execution_count": 12,
     "metadata": {},
     "output_type": "execute_result"
    }
   ],
   "source": [
    "ds = ogr.Open(path_kunming_utm, 1)  ## 0是只读，1是可写\n",
    "layer = ds.GetLayer(0)\n",
    "field_defn = ogr.FieldDefn('Area', ogr.OFTReal)   ## OFTReal：浮点型；OFTInteger: 整型\n",
    "layer.CreateField(field_defn)       ## 创建新字段\n",
    "# id_area = fea.GetFieldIndex('Area')\n",
    "# layer.DeleteField(id_area)   ## 删除字段，参数只能是索引\n",
    "# ds = None    ### 关闭数据源（重要）\n"
   ]
  },
  {
   "cell_type": "code",
   "execution_count": 13,
   "metadata": {},
   "outputs": [
    {
     "name": "stdout",
     "output_type": "stream",
     "text": [
      "Area is:  377.9959786954056\n",
      "Area is:  864.2952967369265\n",
      "Area is:  638.3336172947612\n",
      "Area is:  897.3967316211479\n",
      "Area is:  1866.1175875336044\n",
      "Area is:  499.36396388767395\n",
      "Area is:  1338.5644973111575\n",
      "Area is:  994.6751193008348\n",
      "Area is:  1914.0921754168446\n",
      "Area is:  1681.3428560105956\n",
      "Area is:  828.4756858595072\n",
      "Area is:  4227.345074248606\n",
      "Area is:  3598.3429000372385\n",
      "Area is:  1301.0062596518349\n"
     ]
    }
   ],
   "source": [
    "for i in range(layer.GetFeatureCount()):\n",
    "  fea = layer.GetFeature(i)\n",
    "  fea_area = fea.geometry().Area()\n",
    "  fea_area = fea_area/1000000       ### 单位：米\n",
    "  print('Area is: ', fea_area)\n",
    "  fea.SetField('Area', fea_area)   ## 对面积字段Field赋值\n",
    "  layer.SetFeature(fea)  ## 更新特征\n",
    "ds = None    ### 关闭数据源（重要）\n"
   ]
  },
  {
   "attachments": {},
   "cell_type": "markdown",
   "metadata": {},
   "source": [
    "#### 3. 获取面要素中心点，新建中心点图层"
   ]
  },
  {
   "cell_type": "code",
   "execution_count": 16,
   "metadata": {},
   "outputs": [
    {
     "name": "stdout",
     "output_type": "stream",
     "text": [
      "1\n",
      "2\n",
      "3\n",
      "4\n",
      "5\n",
      "6\n",
      "7\n",
      "8\n",
      "9\n",
      "10\n",
      "11\n",
      "12\n",
      "13\n",
      "14\n"
     ]
    },
    {
     "name": "stderr",
     "output_type": "stream",
     "text": [
      "ERROR 1: Invalid index : -1\n",
      "ERROR 1: Invalid index : -1\n",
      "ERROR 1: Invalid index : -1\n",
      "ERROR 1: Invalid index : -1\n",
      "ERROR 1: Invalid index : -1\n",
      "ERROR 1: Invalid index : -1\n",
      "ERROR 1: Invalid index : -1\n",
      "ERROR 1: Invalid index : -1\n",
      "ERROR 1: Invalid index : -1\n",
      "ERROR 1: Invalid index : -1\n",
      "ERROR 1: Invalid index : -1\n",
      "ERROR 1: Invalid index : -1\n",
      "ERROR 1: Invalid index : -1\n",
      "ERROR 1: Invalid index : -1\n"
     ]
    }
   ],
   "source": [
    "ds = ogr.Open(path_kunming, 0)  ## 0是只读，1是可写\n",
    "layer = ds.GetLayer(0); \n",
    "sr = osr.SpatialReference()   # create spatial reference object\n",
    "sr.ImportFromEPSG(4326)       # set it to EPSG:4326\n",
    "driver = ogr.GetDriverByName('ESRI Shapefile')\n",
    "ds_centroid = driver.CreateDataSource(path_kunming_centroid)\n",
    "layer_centroid = ds_centroid.CreateLayer('centroid', geom_type=ogr.wkbPoint, srs=sr)  # create new layer in the shapefile \n",
    "field_defn = ogr.FieldDefn('Fid', ogr.OFTInteger)\n",
    "layer_centroid.CreateField(field_defn)     ## 创建新字段\n",
    "for i in range(layer.GetFeatureCount()):\n",
    "  print(i+1)\n",
    "  fea = layer.GetFeature(i)\n",
    "  geo_centroid = fea.geometry().Centroid()  ## 获得中心点几何\n",
    "  fea_centroid_defn = layer.GetLayerDefn()\n",
    "  fea_centroid = ogr.Feature(fea_centroid_defn)   ## 创建空要素\n",
    "  fea_centroid.SetGeometry(geo_centroid)     ## 设置要素几何\n",
    "  fea_centroid.SetField('Fid', i+1)          ## 设置字段值\n",
    "  layer_centroid.CreateFeature(fea_centroid)  ## 在图层中创建要素。\n",
    "layer_centroid = ds_centroid = None       ## 关闭数据源和图层\n",
    "\n"
   ]
  },
  {
   "attachments": {},
   "cell_type": "markdown",
   "metadata": {},
   "source": [
    "#### 4. 新建几何及多要素图层\n",
    "云大呈贡校园范围（(102.837,24.832), (102.842,24.836), (102.849,24.836), (102.857,24.835), (102.864,24.828),(102.855,24.826), (102.845,24.821),(102.837,24.832)）  \n",
    "wkt(OGC well-known text)和wkb(OGC well-known binary)是OGC制定的空间数据的组织规范，wkt是以文本形式描述，wkb是以二进制形式描述。\n",
    "\n"
   ]
  },
  {
   "cell_type": "code",
   "execution_count": 64,
   "metadata": {},
   "outputs": [],
   "source": [
    "driver = ogr.GetDriverByName('ESRI Shapefile')\n",
    "ds_ynu = driver.CreateDataSource(path_ynu_vector)\n",
    "sr = osr.SpatialReference()   ## create spatial reference object\n",
    "sr.ImportFromEPSG(4326)       ## set it to EPSG:4326\n",
    "layer_ynu = ds_ynu.CreateLayer('ynu_fromwkt', srs=sr, geom_type=ogr.wkbPolygon)\n",
    "field_defn = ogr.FieldDefn('fid', ogr.OFTInteger)\n",
    "layer_ynu.CreateField(field_defn)\n",
    "fea_ynu = ogr.Feature(layer_ynu.GetLayerDefn())\n",
    "fea_ynu.SetField('fid', 1)\n"
   ]
  },
  {
   "cell_type": "code",
   "execution_count": 26,
   "metadata": {},
   "outputs": [
    {
     "name": "stdout",
     "output_type": "stream",
     "text": [
      "POLYGON ((102.837 24.832 0,102.842 24.836 0,102.849 24.836 0,102.857 24.835 0,102.864 24.828 0,102.855 24.826 0,102.845 24.821 0,102.837 24.832 0))\n",
      "bytearray(b'\\x01\\x03\\x00\\x00\\x80\\x01\\x00\\x00\\x00\\x08\\x00\\x00\\x00!\\xb0rh\\x91\\xb5Y@\\xa2E\\xb6\\xf3\\xfd\\xd48@\\x00\\x00\\x00\\x00\\x00\\x00\\x00\\x00\\xd9\\xce\\xf7S\\xe3\\xb5Y@\\xbct\\x93\\x18\\x04\\xd68@\\x00\\x00\\x00\\x00\\x00\\x00\\x00\\x00u\\x93\\x18\\x04V\\xb6Y@\\xbct\\x93\\x18\\x04\\xd68@\\x00\\x00\\x00\\x00\\x00\\x00\\x00\\x00\\x02+\\x87\\x16\\xd9\\xb6Y@\\xf6(\\\\\\x8f\\xc2\\xd58@\\x00\\x00\\x00\\x00\\x00\\x00\\x00\\x00\\x9e\\xef\\xa7\\xc6K\\xb7Y@\\x87\\x16\\xd9\\xce\\xf7\\xd38@\\x00\\x00\\x00\\x00\\x00\\x00\\x00\\x00\\x1f\\x85\\xebQ\\xb8\\xb6Y@\\xfa~j\\xbct\\xd38@\\x00\\x00\\x00\\x00\\x00\\x00\\x00\\x00\\xaeG\\xe1z\\x14\\xb6Y@\\x19\\x04V\\x0e-\\xd28@\\x00\\x00\\x00\\x00\\x00\\x00\\x00\\x00!\\xb0rh\\x91\\xb5Y@\\xa2E\\xb6\\xf3\\xfd\\xd48@\\x00\\x00\\x00\\x00\\x00\\x00\\x00\\x00')\n"
     ]
    }
   ],
   "source": [
    "# ### Create polygon by Adding Geometry()\n",
    "# ring = ogr.Geometry(ogr.wkbLinearRing)\n",
    "# ring.AddPoint(102.837,24.832)\n",
    "# ring.AddPoint(102.842,24.836)\n",
    "# ring.AddPoint(102.849,24.836)\n",
    "# ring.AddPoint(102.857,24.835)\n",
    "# ring.AddPoint(102.864,24.828)\n",
    "# ring.AddPoint(102.855,24.826)\n",
    "# ring.AddPoint(102.845,24.821)\n",
    "# ring.AddPoint(102.837,24.832)\n",
    "# # 创建多边形\n",
    "# poly_ynu = ogr.Geometry(ogr.wkbPolygon)\n",
    "# poly_ynu.AddGeometry(ring)\n",
    "# print(poly_ynu.ExportToWkt())\n",
    "# print(poly_ynu.ExportToWkb())\n"
   ]
  },
  {
   "cell_type": "code",
   "execution_count": 53,
   "metadata": {},
   "outputs": [
    {
     "data": {
      "text/plain": [
       "<osgeo.ogr.Geometry; proxy of <Swig Object of type 'OGRGeometryShadow *' at 0x7fc207be1930> >"
      ]
     },
     "execution_count": 53,
     "metadata": {},
     "output_type": "execute_result"
    }
   ],
   "source": [
    "### Create polygon by define wkt\n",
    "ynu_wkt = \"POLYGON ((102.837 24.832,102.842 24.836,102.849 24.836,102.857 24.835,102.864 24.828,102.855 24.826,102.845 24.821,102.837 24.832))\"\n",
    "poly_ynu = ogr.CreateGeometryFromWkt(ynu_wkt)\n",
    "poly_ynu\n"
   ]
  },
  {
   "cell_type": "code",
   "execution_count": 54,
   "metadata": {},
   "outputs": [],
   "source": [
    "fea_ynu.SetGeometry(poly_ynu)\n",
    "layer_ynu.CreateFeature(fea_ynu)\n",
    "ds_ynu = None\n"
   ]
  },
  {
   "attachments": {},
   "cell_type": "markdown",
   "metadata": {},
   "source": [
    "#### 课后作业\n",
    "开发能够根据经度快速获得utm投影带的python函数。\n"
   ]
  }
 ],
 "metadata": {
  "kernelspec": {
   "display_name": "venv",
   "language": "python",
   "name": "python3"
  },
  "language_info": {
   "codemirror_mode": {
    "name": "ipython",
    "version": 3
   },
   "file_extension": ".py",
   "mimetype": "text/x-python",
   "name": "python",
   "nbconvert_exporter": "python",
   "pygments_lexer": "ipython3",
   "version": "3.9.15"
  },
  "orig_nbformat": 4
 },
 "nbformat": 4,
 "nbformat_minor": 2
}
