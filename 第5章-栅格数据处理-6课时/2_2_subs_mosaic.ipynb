{
 "cells": [
  {
   "attachments": {},
   "cell_type": "markdown",
   "metadata": {},
   "source": [
    "### 实现影像的裁剪、拼接"
   ]
  },
  {
   "cell_type": "code",
   "execution_count": 2,
   "metadata": {},
   "outputs": [],
   "source": [
    "from osgeo import gdal\n",
    "from osgeo import osr\n",
    "import numpy as np\n",
    "import matplotlib.pyplot as plt\n"
   ]
  },
  {
   "cell_type": "code",
   "execution_count": 3,
   "metadata": {},
   "outputs": [
    {
     "name": "stdout",
     "output_type": "stream",
     "text": [
      "geotrans: (102.69988004408965, 0.00018786863939310741, 0.0, 24.99572929743811, 0.0, -0.00018786863939310741)\n",
      "extent: 102.69988004408965 103.00328789670952 24.694387999851568 24.99572929743811\n"
     ]
    }
   ],
   "source": [
    "dset = gdal.Open('data/Section-2/s2_chenggong_20200411_6bands_20m_wgs84.tif')\n",
    "geo_trans = dset.GetGeoTransform()   ### 地理转换参数\n",
    "print('geotrans:', geo_trans)\n",
    "x_min, y_max = geo_trans[0], geo_trans[3]   ### 左上角坐标\n",
    "x_max = geo_trans[0]+geo_trans[1]*dset.RasterXSize\n",
    "y_min = geo_trans[3]+geo_trans[5]*dset.RasterYSize\n",
    "print('extent:', x_min, x_max, y_min, y_max)\n"
   ]
  },
  {
   "cell_type": "code",
   "execution_count": 4,
   "metadata": {},
   "outputs": [],
   "source": [
    "### 设定裁剪范围\n",
    "extent_subs_1 = [102.703814432, 102.999369759, 24.701069345, 24.86]  #\n",
    "\n"
   ]
  },
  {
   "cell_type": "code",
   "execution_count": 5,
   "metadata": {},
   "outputs": [
    {
     "name": "stdout",
     "output_type": "stream",
     "text": [
      "1573.2020413559553 845.9669240880754\n",
      "0.00018789276986649867 -0.00018786129432623986\n"
     ]
    }
   ],
   "source": [
    "#### 计算影像尺寸\n",
    "x_size_subs1 = (102.999369759-102.703814432)/geo_trans[1]\n",
    "y_size_subs1 = (24.701069345-24.86)/geo_trans[5]\n",
    "print(x_size_subs1, y_size_subs1)\n",
    "x_size_subs1, y_size_subs1 = 1573, 846\n",
    "x_res = (102.999369759-102.703814432)/1573\n",
    "y_res = (24.701069345-24.86)/846\n",
    "print(x_res, y_res)\n"
   ]
  },
  {
   "cell_type": "code",
   "execution_count": 6,
   "metadata": {},
   "outputs": [],
   "source": [
    "geotrans_subs1 = [102.703814432, 0.00018789276986649867, 0, 24.86, 0, -0.00018786129432623986]\n"
   ]
  },
  {
   "cell_type": "code",
   "execution_count": 7,
   "metadata": {},
   "outputs": [
    {
     "name": "stdout",
     "output_type": "stream",
     "text": [
      "(6, 1604, 1615)\n",
      "0.0 709.2605343632425\n"
     ]
    }
   ],
   "source": [
    "### 获取裁剪影像数组\n",
    "img_array = dset.ReadAsArray()\n",
    "print(img_array.shape)  ## （波段数，行，列) -> (波段数,y,x)\n",
    "### 计算裁剪影像起点\n",
    "## subs1_x_start, subs_y_start -> 102.703814432, 24.86\n",
    "## img_x_start, img_y_start -> 102.703814432, 24.993242602\n",
    "col_dif_img_sbus1_start = (102.703814432 - 102.703814432)/geotrans_subs1[1]\n",
    "row_dif_img_sbus1_start = (24.86 - 24.993242602)/geotrans_subs1[5]\n",
    "print(col_dif_img_sbus1_start, row_dif_img_sbus1_start)"
   ]
  },
  {
   "cell_type": "code",
   "execution_count": 8,
   "metadata": {},
   "outputs": [
    {
     "name": "stdout",
     "output_type": "stream",
     "text": [
      "102.703814432 24.860048944322696\n"
     ]
    }
   ],
   "source": [
    "### 行列间隔数不是整数，通过调整裁剪影像起点对其整数化。\n",
    "col_dif_img_sbus1_start, row_dif_img_sbus1_start = 0, 709\n",
    "x_start_subs1_new = 102.703814432 + col_dif_img_sbus1_start * geotrans_subs1[1]\n",
    "y_start_subs1_new = 24.993242602 + row_dif_img_sbus1_start * geotrans_subs1[5]\n",
    "print(x_start_subs1_new, y_start_subs1_new)\n"
   ]
  },
  {
   "cell_type": "code",
   "execution_count": 9,
   "metadata": {},
   "outputs": [
    {
     "name": "stdout",
     "output_type": "stream",
     "text": [
      "(6, 846, 1573)\n"
     ]
    }
   ],
   "source": [
    "### 获取裁剪影像数组\n",
    "### 设定x,y方向上裁剪影像和原始影像左上角像元个数差异为0，709，获得裁剪影像数组\n",
    "img_array_subs1 = img_array[:, 709:709+846, 0:0+1573]\n",
    "print(img_array_subs1.shape)\n"
   ]
  },
  {
   "cell_type": "code",
   "execution_count": 10,
   "metadata": {},
   "outputs": [],
   "source": [
    "### 更新geotrans\n",
    "geotrans_subs1 = [102.703814432, 0.00018789276986649867, 0, 24.860048944322696, 0, -0.00018786129432623986]\n"
   ]
  },
  {
   "cell_type": "code",
   "execution_count": 26,
   "metadata": {},
   "outputs": [],
   "source": [
    "driver = gdal.GetDriverByName('GTiff')\n",
    "dset_subs1 = driver.Create('data/Section-5/s2_chenggong_20200411_6bands_20m_wgs84_subs1.tif', xsize = 1573, \\\n",
    "                                        ysize = 846, bands=dset.RasterCount, eType=gdal.GDT_Int16)\n",
    "dset_subs1.SetGeoTransform(geotrans_subs1)\n",
    "\n",
    "dset_subs1.SetProjection(dset.GetProjection())\n",
    "dset_subs1.WriteArray(img_array_subs1)      ### 将np.array()数组写入数据\n",
    "dset_subs1 = None\n"
   ]
  },
  {
   "attachments": {},
   "cell_type": "markdown",
   "metadata": {},
   "source": [
    "## 课堂练习：基于gdal库练习给定范围的影像裁剪\n",
    "给定范围为：extent_subs_2 = [102.703814432, 102.999369759, 24.84, 24.993242602]"
   ]
  },
  {
   "cell_type": "code",
   "execution_count": 13,
   "metadata": {},
   "outputs": [
    {
     "name": "stdout",
     "output_type": "stream",
     "text": [
      "(102.69988004408965, 0.00018786863939310741, 0.0, 24.99572929743811, 0.0, -0.00018786863939310741)\n"
     ]
    }
   ],
   "source": [
    "dset = gdal.Open('data/Section-2/s2_chenggong_20200411_6bands_20m_wgs84.tif')\n",
    "geo_trans = dset.GetGeoTransform()   ### 地理转换参数\n",
    "print(geo_trans)\n"
   ]
  },
  {
   "cell_type": "code",
   "execution_count": 14,
   "metadata": {},
   "outputs": [],
   "source": [
    "extent_subs_2 = [102.71, 102.99, 24.84, 24.99]\n"
   ]
  },
  {
   "cell_type": "code",
   "execution_count": 15,
   "metadata": {},
   "outputs": [
    {
     "name": "stdout",
     "output_type": "stream",
     "text": [
      "1490.4030864571955 798.4302248877724\n"
     ]
    }
   ],
   "source": [
    "#### 计算影像尺寸\n",
    "x_size_subs2 = (102.99-102.71)/geo_trans[1]\n",
    "y_size_subs2 = (24.84-24.99)/geo_trans[5]\n",
    "print(x_size_subs2, y_size_subs2)\n"
   ]
  },
  {
   "cell_type": "code",
   "execution_count": 16,
   "metadata": {},
   "outputs": [
    {
     "name": "stdout",
     "output_type": "stream",
     "text": [
      "0.0001879194630872491 -0.0001879699248120283\n"
     ]
    }
   ],
   "source": [
    "### 裁剪影像尺寸整数化\n",
    "x_size_subs2, y_size_subs2 = 1490, 798\n",
    "x_res = (102.99-102.71)/x_size_subs2\n",
    "y_res = (24.84-24.99)/y_size_subs2\n",
    "print(x_res, y_res)\n",
    "\n"
   ]
  },
  {
   "cell_type": "code",
   "execution_count": 17,
   "metadata": {},
   "outputs": [],
   "source": [
    "### 更新geotrans\n",
    "geotrans_subs2 = [102.71, 0.0001879194630872491, 0, 24.99, 0, -0.0001879699248120283]\n"
   ]
  },
  {
   "cell_type": "code",
   "execution_count": 18,
   "metadata": {},
   "outputs": [
    {
     "name": "stdout",
     "output_type": "stream",
     "text": [
      "32.92496299528317 17.259942960545157\n"
     ]
    }
   ],
   "source": [
    "### 获取裁剪影像数组, 首先计算裁剪影像起点\n",
    "col_dif_img_subs2_start = (102.71-102.703814432)/geo_trans[1]\n",
    "row_dif_img_subs2_start = (24.99 - 24.993242602)/geo_trans[5]\n",
    "print(col_dif_img_subs2_start, row_dif_img_subs2_start)\n"
   ]
  },
  {
   "cell_type": "code",
   "execution_count": 19,
   "metadata": {},
   "outputs": [
    {
     "name": "stdout",
     "output_type": "stream",
     "text": [
      "102.70982622846059 24.990048835130317\n"
     ]
    }
   ],
   "source": [
    "### 行列差异整数化, 并更新裁剪影像起点\n",
    "col_dif_img_subs2_start, row_dif_img_subs2_start = 32, 17\n",
    "x_start_subs2_new = 102.703814432 + col_dif_img_subs2_start*geo_trans[1]\n",
    "y_start_subs2_new = 24.993242602 + row_dif_img_subs2_start*geo_trans[5]\n",
    "print(x_start_subs2_new, y_start_subs2_new)\n"
   ]
  },
  {
   "cell_type": "code",
   "execution_count": 20,
   "metadata": {},
   "outputs": [
    {
     "name": "stdout",
     "output_type": "stream",
     "text": [
      "(6, 798, 1490)\n"
     ]
    }
   ],
   "source": [
    "img_array_subs2 = img_array[:,17:17+798, 32:32+1490]\n",
    "print(img_array_subs2.shape)\n"
   ]
  },
  {
   "cell_type": "code",
   "execution_count": 21,
   "metadata": {},
   "outputs": [],
   "source": [
    "### 更新geotrans\n",
    "geotrans_subs2 = [102.70982700063573, 0.0001879194630872491, 0, 24.990048424913827, 0, -0.0001879699248120283]\n"
   ]
  },
  {
   "cell_type": "code",
   "execution_count": 24,
   "metadata": {},
   "outputs": [],
   "source": [
    "driver = gdal.GetDriverByName('GTiff')\n",
    "dset_subs2 = driver.Create('data/Section-5/s2_chenggong_20200411_6bands_20m_wgs84_subs2.tif', xsize = x_size_subs2, \\\n",
    "                                        ysize = y_size_subs2, bands=dset.RasterCount, eType=gdal.GDT_Int16)\n",
    "dset_subs2.SetGeoTransform(geotrans_subs2)\n",
    "dset_subs2.SetProjection(dset.GetProjection())\n",
    "dset_subs2.WriteArray(img_array_subs2)      ### 将np.array()数组写入数据\n",
    "dset_subs2 = None\n"
   ]
  },
  {
   "attachments": {},
   "cell_type": "markdown",
   "metadata": {},
   "source": [
    "### 影像拼接"
   ]
  },
  {
   "cell_type": "code",
   "execution_count": 27,
   "metadata": {},
   "outputs": [
    {
     "name": "stdout",
     "output_type": "stream",
     "text": [
      "subs1: (102.703814432, 0.00018789276986649867, 0.0, 24.860048944322696, 0.0, -0.00018786129432623986)\n",
      "subs2: (102.70982700063573, 0.0001879194630872491, 0.0, 24.990048424913827, 0.0, -0.0001879699248120283)\n"
     ]
    }
   ],
   "source": [
    "dset_subs1 = gdal.Open('data/Section-5/s2_chenggong_20200411_6bands_20m_wgs84_subs1.tif')\n",
    "dset_subs2 = gdal.Open('data/Section-5/s2_chenggong_20200411_6bands_20m_wgs84_subs2.tif')\n",
    "geo_trans_subs1 = dset_subs1.GetGeoTransform()   ### 地理转换参数\n",
    "geo_trans_subs2 = dset_subs2.GetGeoTransform()   ### 地理转换参数\n",
    "print('subs1:', geo_trans_subs1)\n",
    "print('subs2:', geo_trans_subs2)\n"
   ]
  },
  {
   "cell_type": "code",
   "execution_count": 28,
   "metadata": {},
   "outputs": [
    {
     "name": "stdout",
     "output_type": "stream",
     "text": [
      "extent_subs1: 102.703814432 102.999369759 24.701118289322697 24.860048944322696\n",
      "extent_subs2: 102.70982700063573 102.98982700063573 24.840048424913828 24.990048424913827\n"
     ]
    }
   ],
   "source": [
    "x_right_subs1 = 102.703814432 + dset_subs1.RasterXSize * geo_trans_subs1[1]\n",
    "y_bottom_subs1 = 24.860048944322696 + dset_subs1.RasterYSize * geo_trans_subs1[5]\n",
    "print('extent_subs1:', 102.703814432, x_right_subs1, y_bottom_subs1, 24.860048944322696 )\n",
    "\n",
    "x_right_subs2 = 102.70982700063573 + dset_subs2.RasterXSize * geo_trans_subs2[1]\n",
    "y_bottom_subs2 = 24.990048424913827 + dset_subs2.RasterYSize * geo_trans_subs2[5]\n",
    "print('extent_subs2:', 102.70982700063573, x_right_subs2, y_bottom_subs2, 24.990048424913827)\n"
   ]
  },
  {
   "cell_type": "code",
   "execution_count": 29,
   "metadata": {},
   "outputs": [],
   "source": [
    "extent_mosaic = [102.703814432, 102.999369759, 24.701118289322697, 24.990048424913827]\n"
   ]
  },
  {
   "cell_type": "code",
   "execution_count": 84,
   "metadata": {},
   "outputs": [
    {
     "name": "stdout",
     "output_type": "stream",
     "text": [
      "1573.0 1537.9971517143601\n"
     ]
    }
   ],
   "source": [
    "x_res, y_res = 0.00018789276986649867, -0.00018786129432623986\n",
    "x_size_mosaic = (extent_mosaic[1] - extent_mosaic[0])/x_res\n",
    "y_size_mosaic = (extent_mosaic[2]-extent_mosaic[3])/y_res\n",
    "print(x_size_mosaic, y_size_mosaic)\n"
   ]
  },
  {
   "cell_type": "code",
   "execution_count": 30,
   "metadata": {},
   "outputs": [
    {
     "name": "stdout",
     "output_type": "stream",
     "text": [
      "0.00018789276986649867 -0.00018786094641815997\n"
     ]
    }
   ],
   "source": [
    "### 尺寸整数化\n",
    "x_size_mosaic, y_size_mosaic = 1573, 1538\n",
    "x_res_new = (extent_mosaic[1] - extent_mosaic[0])/x_size_mosaic\n",
    "y_res_new = (extent_mosaic[2]-extent_mosaic[3])/y_size_mosaic\n",
    "print(x_res_new, y_res_new)\n"
   ]
  },
  {
   "cell_type": "code",
   "execution_count": 31,
   "metadata": {},
   "outputs": [],
   "source": [
    "geotrans_mosaic = [102.703814432,0.00018789276986649867,0,24.990048424913827,0,-0.00018786094641815997]\n"
   ]
  },
  {
   "cell_type": "code",
   "execution_count": 32,
   "metadata": {},
   "outputs": [
    {
     "data": {
      "text/plain": [
       "(6, 1538, 1573)"
      ]
     },
     "execution_count": 32,
     "metadata": {},
     "output_type": "execute_result"
    }
   ],
   "source": [
    "img_array_mosaic = np.zeros(shape=(dset_subs1.RasterCount, y_size_mosaic, x_size_mosaic))\n",
    "img_array_mosaic.shape\n"
   ]
  },
  {
   "cell_type": "code",
   "execution_count": 33,
   "metadata": {},
   "outputs": [
    {
     "name": "stdout",
     "output_type": "stream",
     "text": [
      "691.5972367448239 0.0\n",
      "-0.0 31.995454525823796\n"
     ]
    }
   ],
   "source": [
    "### 待拼接影像起点在拼接影像上位置\n",
    "x_start_subs1, y_start_subs1 = 102.703814432, 24.860048944322696\n",
    "x_start_subs2, y_start_subs2 = 102.70982700063573, 24.990048424913827\n",
    "x_start_mosaic, y_start_mosaic = 102.703814432, 24.990048424913827\n",
    "### subs1\n",
    "row_start_subs1 = (y_start_subs1 - y_start_mosaic)/y_res\n",
    "col_start_subs1 = (x_start_subs1 - x_start_mosaic)/x_res\n",
    "print(row_start_subs1, col_start_subs1)\n",
    "img_array_mosaic[:, 692:692+dset_subs1.RasterYSize, 0:0+dset_subs1.RasterXSize] = dset_subs1.ReadAsArray()\n",
    "### subs2\n",
    "row_start_subs2 = (y_start_subs2 - y_start_mosaic)/y_res\n",
    "col_start_subs2 = (x_start_subs2 - x_start_mosaic)/x_res\n",
    "print(row_start_subs2, col_start_subs2)\n",
    "img_array_mosaic[:, 0:0+dset_subs2.RasterYSize, 32:32+dset_subs2.RasterXSize] = dset_subs2.ReadAsArray()\n",
    "\n"
   ]
  },
  {
   "cell_type": "code",
   "execution_count": 34,
   "metadata": {},
   "outputs": [],
   "source": [
    "driver = gdal.GetDriverByName('GTiff')\n",
    "dset_mosaic = driver.Create('data/Section-2/s2_chenggong_20200411_6bands_20m_wgs84_subs_mosaic.tif', xsize = x_size_mosaic, \\\n",
    "                                        ysize = y_size_mosaic, bands=dset_subs1.RasterCount, eType=gdal.GDT_Int16)\n",
    "dset_mosaic.SetGeoTransform(geotrans_mosaic)\n",
    "dset_mosaic.SetProjection(dset_subs1.GetProjection())\n",
    "dset_mosaic.WriteArray(img_array_mosaic)      ### 将np.array()数组写入数据\n",
    "dset_mosaic = None\n",
    "\n"
   ]
  },
  {
   "attachments": {},
   "cell_type": "markdown",
   "metadata": {},
   "source": [
    "### 快捷方式\n",
    "影像裁剪: gdal_translate (参考：https://gdal.org/programs/gdal_translate.html)"
   ]
  },
  {
   "cell_type": "code",
   "execution_count": 36,
   "metadata": {},
   "outputs": [
    {
     "name": "stdout",
     "output_type": "stream",
     "text": [
      "Input file size is 1615, 1604\n",
      "0...10...20...30...40...50...60...70...80...90...100 - done.\n"
     ]
    }
   ],
   "source": [
    "### extent: str(ulx) str(uly) str(lrx) str(lry)\n",
    "extent = '102.703814432 24.86 102.999369759 24.701069345'\n",
    "path_in = 'data/Section-2/s2_chenggong_20200411_6bands_20m_wgs84.tif'\n",
    "path_out = 'data/Section-5/s2_chenggong_20200411_6bands_20m_wgs84_subs1_.tif'\n",
    "!gdal_translate -projwin $extent -co COMPRESS=LZW $path_in $path_out\n"
   ]
  },
  {
   "attachments": {},
   "cell_type": "markdown",
   "metadata": {},
   "source": [
    "#### 影像拼接：gdal_merge (参考：https://gdal.org/programs/gdal_merge.html)"
   ]
  },
  {
   "cell_type": "code",
   "execution_count": 37,
   "metadata": {},
   "outputs": [
    {
     "name": "stdout",
     "output_type": "stream",
     "text": [
      "0...10...20...30...40...50...60...70...80...90...100 - done.\n"
     ]
    }
   ],
   "source": [
    "path_out = 'data/Section-5/s2_chenggong_20200411_6bands_20m_wgs84_subs_mosaic_.tif'\n",
    "path_in_1 = 'data/Section-5/s2_chenggong_20200411_6bands_20m_wgs84_subs1.tif'\n",
    "path_in_2 = 'data/Section-5/s2_chenggong_20200411_6bands_20m_wgs84_subs2.tif'\n",
    "!gdal_merge.py -init 0 -co COMPRESS=LZW -o $path_out $path_in_1 $path_in_2\n"
   ]
  }
 ],
 "metadata": {
  "kernelspec": {
   "display_name": "venv",
   "language": "python",
   "name": "python3"
  },
  "language_info": {
   "codemirror_mode": {
    "name": "ipython",
    "version": 3
   },
   "file_extension": ".py",
   "mimetype": "text/x-python",
   "name": "python",
   "nbconvert_exporter": "python",
   "pygments_lexer": "ipython3",
   "version": "3.9.15"
  },
  "orig_nbformat": 4
 },
 "nbformat": 4,
 "nbformat_minor": 2
}
