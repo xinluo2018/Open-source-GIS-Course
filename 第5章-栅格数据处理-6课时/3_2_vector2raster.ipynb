{
 "cells": [
  {
   "attachments": {},
   "cell_type": "markdown",
   "metadata": {},
   "source": [
    "### 栅格数据与矢量数据的相互转换\n"
   ]
  },
  {
   "cell_type": "code",
   "execution_count": 1,
   "metadata": {},
   "outputs": [],
   "source": [
    "from osgeo import gdal\n",
    "from osgeo import osr, ogr\n",
    "import numpy as np\n",
    "import matplotlib.pyplot as plt\n",
    "import os\n"
   ]
  },
  {
   "cell_type": "code",
   "execution_count": 2,
   "metadata": {},
   "outputs": [],
   "source": [
    "path_vec = 'data/Section-5/s2_chenggong_mndwi_polygon.shp'\n",
    "path_raster = 'data/Section-5/s2_chenggong_mndwi_polygon2raster.tif'\n"
   ]
  },
  {
   "attachments": {},
   "cell_type": "markdown",
   "metadata": {},
   "source": [
    "### 主要参数：gdal.RasterizeLayer（dataset, bands, layer, burn_values, options）\n",
    "dataset:输出栅格数据；bands:指定要更新的波段个数; layer:指定矢量图层；burn_values:输出图像的像素值；options:控制栅格化的参数。  \n",
    "参考：https://gdal.org/api/python/osgeo.gdal.html "
   ]
  },
  {
   "cell_type": "code",
   "execution_count": 3,
   "metadata": {},
   "outputs": [],
   "source": [
    "from osgeo import gdal, ogr\n",
    "\n",
    "# Define pixel_size and NoData value of new raster\n",
    "pixel_size = 0.00018\n",
    "\n",
    "# Open the data source and read in the extent\n",
    "dset_vec = ogr.Open(path_vec)\n",
    "source_layer = dset_vec.GetLayer()\n",
    "x_min, x_max, y_min, y_max = source_layer.GetExtent()\n",
    "geo_trans = (x_min, pixel_size, 0, y_max, 0, -pixel_size)\n",
    "# 定义投影\n",
    "wgs84 = osr.SpatialReference(); wgs84.ImportFromEPSG(4326)\n",
    "wgs84_wkt = wgs84.ExportToWkt()\n",
    "\n",
    "# Create the destination data source\n",
    "x_size = int((x_max - x_min) / pixel_size)\n",
    "y_size = int((y_max - y_min) / pixel_size)\n",
    "dset_raster = gdal.GetDriverByName('GTiff').Create(path_raster, x_size, y_size, 1, gdal.GDT_Byte)\n",
    "dset_raster.SetGeoTransform(geo_trans)\n",
    "dset_raster.SetProjection(wgs84_wkt)\n",
    "band = dset_raster.GetRasterBand(1)\n",
    "band.SetNoDataValue(-999)\n",
    "# Rasterize\n",
    "gdal.RasterizeLayer(dataset=dset_raster, bands=[1], layer=source_layer, options=[\"ATTRIBUTE=DN\"])\n",
    "# gdal.RasterizeLayer(dataset=dset_raster, bands=[1], layer=source_layer, burn_values=[10])\n",
    "dset_raster = None\n"
   ]
  },
  {
   "attachments": {},
   "cell_type": "markdown",
   "metadata": {},
   "source": [
    "### 快捷方式（控制台命令）：gdal_rasterize/gdal.Rasterize()\n",
    "参考：https://gdal.org/programs/gdal_rasterize.html  \n",
    "\n"
   ]
  },
  {
   "cell_type": "code",
   "execution_count": 6,
   "metadata": {},
   "outputs": [
    {
     "name": "stdout",
     "output_type": "stream",
     "text": [
      "0...10...20...30...40...50...60...70...80...90...100 - done.\n"
     ]
    }
   ],
   "source": [
    "path_vec = 'data/Section-5/s2_chenggong_mndwi_polygon.shp'\n",
    "path_raster = 'data/Section-5/s2_chenggong_mndwi_polygon2raster.tif'\n",
    "!gdal_rasterize -b 1 -l s2_chenggong_mndwi_polygon $path_vec $path_raster -a DN\n"
   ]
  },
  {
   "attachments": {},
   "cell_type": "markdown",
   "metadata": {},
   "source": [
    "### 课后练习\n",
    "在将矢量数据转为栅格数据中，使转换获得的栅格数据尺寸、分辨率、投影等信息与用于获得呈贡区域mndwi指数图像的原始遥感影像一致。\n",
    "\n"
   ]
  }
 ],
 "metadata": {
  "kernelspec": {
   "display_name": "venv",
   "language": "python",
   "name": "python3"
  },
  "language_info": {
   "codemirror_mode": {
    "name": "ipython",
    "version": 3
   },
   "file_extension": ".py",
   "mimetype": "text/x-python",
   "name": "python",
   "nbconvert_exporter": "python",
   "pygments_lexer": "ipython3",
   "version": "3.9.15"
  },
  "orig_nbformat": 4
 },
 "nbformat": 4,
 "nbformat_minor": 2
}
