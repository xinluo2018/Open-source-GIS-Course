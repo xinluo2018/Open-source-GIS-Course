{
 "cells": [
  {
   "attachments": {},
   "cell_type": "markdown",
   "metadata": {},
   "source": [
    "### 利用矢量数据对栅格数据进行裁剪\n"
   ]
  },
  {
   "cell_type": "code",
   "execution_count": 2,
   "metadata": {},
   "outputs": [],
   "source": [
    "from osgeo import gdal\n",
    "from osgeo import osr, ogr\n",
    "import numpy as np\n",
    "import matplotlib.pyplot as plt\n",
    "import os\n"
   ]
  },
  {
   "cell_type": "code",
   "execution_count": 7,
   "metadata": {},
   "outputs": [],
   "source": [
    "path_vec = 'data/Section-5/s2_chenggong_mndwi_polygon.shp'\n",
    "path_rsimg = 'data/Section-2/s2_chenggong_20200411_6bands_20m_wgs84.tif'\n",
    "path_rsimg_subs = 'data/Section-5/s2_chenggong_wgs84_subs.tif'\n"
   ]
  },
  {
   "attachments": {},
   "cell_type": "markdown",
   "metadata": {},
   "source": [
    "### gdal代码实验思路\n",
    "问题转换：利用矢量数据对遥感影像进行裁剪，实际上是对矢量数据范围外的遥感影像进行膜掉处理。\n",
    "实现步骤：  \n",
    "1. 利用gdal.Open()函数打开遥感影像，获得遥感影像地理转换参数、投影、以及影像数组。\n",
    "2. 将矢量数据转换为与遥感影像投影、地理转换参数、影像宽高一致的栅格数据，转换获得的栅格矢量范围内为1，范围外为0，此栅格数据可看着掩膜影像。\n",
    "3. 将掩膜影像数组与遥感影像数组进行对应像元相乘，获得掩膜后数组，利用遥感影像地理转换参数、投影，将其写出为栅格数据。该数据即为矢量裁剪后遥感影像数据。\n"
   ]
  },
  {
   "attachments": {},
   "cell_type": "markdown",
   "metadata": {},
   "source": [
    "### 快捷方式（python函数）：gdal.Warp()\n",
    "用法：dset_subs = gdal.Warp(destNameOrDestDS, srcDSOrSrcDSTab, cutlineDSName)   \n",
    "其中主要参数destNameOrDestDS为输出裁剪后图像路径，srcDSOrSrcDSTab为原始图像路径；cutlineDSName为矢量文件路径。   \n",
    "具体可参考：https://gdal.org/api/python/osgeo.gdal.html\n"
   ]
  },
  {
   "cell_type": "code",
   "execution_count": 8,
   "metadata": {},
   "outputs": [],
   "source": [
    "dset_rsimg = gdal.Open(path_rsimg)\n",
    "dset_rsimg_subs = gdal.Warp(destNameOrDestDS=path_rsimg_subs, \\\n",
    "                            srcDSOrSrcDSTab=path_rsimg,\\\n",
    "                            cutlineDSName = path_vec)\n",
    "dset_rsimg_subs = None\n"
   ]
  },
  {
   "attachments": {},
   "cell_type": "markdown",
   "metadata": {},
   "source": [
    "### 快捷方式（命令行）：gdalwarp\n",
    "用法参考：https://gdal.org/programs/gdalwarp.html\n"
   ]
  },
  {
   "cell_type": "code",
   "execution_count": 7,
   "metadata": {},
   "outputs": [
    {
     "name": "stdout",
     "output_type": "stream",
     "text": [
      "Creating output file that is 1573P x 1291L.\n",
      "Processing data/Section_5/rsimg_chenggong_wgs84.tif [1/1] : 0...10...20...30...40...50...60...70...80...90...100 - done.\n"
     ]
    }
   ],
   "source": [
    "## path_shp为矢量数据路径； path_input和path_output分别为\n",
    "!gdalwarp -co COMPRESS=LZW -cutline $path_vec -crop_to_cutline $path_rsimg $path_rsimg_subs\n",
    "\n"
   ]
  }
 ],
 "metadata": {
  "kernelspec": {
   "display_name": "venv",
   "language": "python",
   "name": "python3"
  },
  "language_info": {
   "codemirror_mode": {
    "name": "ipython",
    "version": 3
   },
   "file_extension": ".py",
   "mimetype": "text/x-python",
   "name": "python",
   "nbconvert_exporter": "python",
   "pygments_lexer": "ipython3",
   "version": "3.9.15"
  },
  "orig_nbformat": 4
 },
 "nbformat": 4,
 "nbformat_minor": 2
}
