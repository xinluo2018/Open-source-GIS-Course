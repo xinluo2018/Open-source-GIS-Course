{
 "cells": [
  {
   "attachments": {},
   "cell_type": "markdown",
   "metadata": {},
   "source": [
    "### **利用gdal开源库进行栅格文件处理**\n",
    "#### 1. 投影转换\n",
    "#### 2. 重采样\n"
   ]
  },
  {
   "cell_type": "code",
   "execution_count": 3,
   "metadata": {},
   "outputs": [],
   "source": [
    "from osgeo import gdal\n",
    "from osgeo import osr\n",
    "import numpy as np\n"
   ]
  },
  {
   "cell_type": "code",
   "execution_count": 9,
   "metadata": {},
   "outputs": [
    {
     "name": "stdout",
     "output_type": "stream",
     "text": [
      "projection: GEOGCS[\"WGS 84\",DATUM[\"WGS_1984\",SPHEROID[\"WGS 84\",6378137,298.257223563,AUTHORITY[\"EPSG\",\"7030\"]],AUTHORITY[\"EPSG\",\"6326\"]],PRIMEM[\"Greenwich\",0,AUTHORITY[\"EPSG\",\"8901\"]],UNIT[\"degree\",0.0174532925199433,AUTHORITY[\"EPSG\",\"9122\"]],AXIS[\"Latitude\",NORTH],AXIS[\"Longitude\",EAST],AUTHORITY[\"EPSG\",\"4326\"]]\n",
      "(102.69988004408965, 0.00018786863939310741, 0.0, 24.99572929743811, 0.0, -0.00018786863939310741)\n",
      "102.69988004408965 103.00328789670952 24.694387999851568 24.99572929743811\n"
     ]
    }
   ],
   "source": [
    "## 读入栅格数据，包括影像信息和地理信息\n",
    "dset = gdal.Open('data/Section-2/s2_chenggong_20200411_6bands_20m_wgs84.tif')\n",
    "proj = dset.GetProjection()    ### 获取影像投影\n",
    "print('projection:', proj)\n",
    "geo_trans = dset.GetGeoTransform()\n",
    "print(geo_trans)\n",
    "x_min = geo_trans[0]\n",
    "x_max = geo_trans[0]+geo_trans[1]*dset.RasterXSize\n",
    "y_max = geo_trans[3]\n",
    "y_min = geo_trans[3]+geo_trans[5]*dset.RasterYSize\n",
    "print(x_min, x_max, y_min, y_max)\n"
   ]
  },
  {
   "attachments": {},
   "cell_type": "markdown",
   "metadata": {},
   "source": [
    "#### 1. 投影转换"
   ]
  },
  {
   "cell_type": "code",
   "execution_count": 10,
   "metadata": {},
   "outputs": [
    {
     "name": "stdout",
     "output_type": "stream",
     "text": [
      "102.85158397039959\n"
     ]
    }
   ],
   "source": [
    "### 计算utm投影带 (利用x_mean计算utm投影带，获得投影带号为48).\n",
    "x_mean = (x_min + x_max)/2   \n",
    "print(x_mean)\n"
   ]
  },
  {
   "cell_type": "code",
   "execution_count": 11,
   "metadata": {},
   "outputs": [
    {
     "name": "stdout",
     "output_type": "stream",
     "text": [
      "102.69988004408965 24.99572929743811\n",
      "Extent under the utm: 267847.1701612173 297990.02904999023 2732579.41307356 2766444.5889144833\n"
     ]
    }
   ],
   "source": [
    "### 左上角utm坐标计算, 及utm投影下影像范围\n",
    "wgs84_epsg = 4326\n",
    "utm48_epsg = 32648\n",
    "wgs84 = osr.SpatialReference(); wgs84.ImportFromEPSG(wgs84_epsg)\n",
    "utm48 = osr.SpatialReference(); utm48.ImportFromEPSG(utm48_epsg)\n",
    "transform = osr.CoordinateTransformation(wgs84, utm48)\n",
    "print(geo_trans[0], geo_trans[3])\n",
    "(x_min_utm, y_max_utm, z) = transform.TransformPoint(geo_trans[3], geo_trans[0], 0)  ## 输入参数为(纬度，经度）,输出参数为（x，y），注意顺序\n",
    "(x_max_utm, y_min_utm, z) = transform.TransformPoint(y_min, x_max, 0)  ## 输入参数为(纬度，经度, 输出参数为（x，y），注意顺序\n",
    "print('Extent under the utm:', x_min_utm, x_max_utm, y_min_utm, y_max_utm)\n",
    "\n"
   ]
  },
  {
   "cell_type": "code",
   "execution_count": 12,
   "metadata": {},
   "outputs": [
    {
     "name": "stdout",
     "output_type": "stream",
     "text": [
      "18.66430890945694 21.11295251927874\n"
     ]
    }
   ],
   "source": [
    "### 像元尺寸（分辨率）计算\n",
    "width_pixel = (x_max_utm-x_min_utm)/dset.RasterXSize\n",
    "height_pixel = (y_max_utm-y_min_utm)/dset.RasterYSize\n",
    "print(width_pixel, height_pixel)\n"
   ]
  },
  {
   "cell_type": "code",
   "execution_count": 13,
   "metadata": {},
   "outputs": [],
   "source": [
    "### 定义新的转换参数和投影\n",
    "geotrans_new = (268239.7411192706, 18.66788385256731, 0.0, 2766162.361361425, 0, -21.117097004088258)\n",
    "proj_new = utm48.ExportToWkt()\n"
   ]
  },
  {
   "cell_type": "code",
   "execution_count": 15,
   "metadata": {},
   "outputs": [],
   "source": [
    "driver = gdal.GetDriverByName('GTiff')\n",
    "dset_utm = driver.Create('data/Section-5/s2_chenggong_utm48.tif', xsize=dset.RasterXSize, \\\n",
    "                                ysize=dset.RasterYSize, bands=dset.RasterCount, eType=gdal.GDT_Int16)\n",
    "dset_utm.SetGeoTransform(geotrans_new)\n",
    "dset_utm.SetProjection(proj_new)\n",
    "\n",
    "## 影像重投影\n",
    "reproj = gdal.ReprojectImage(dset, dset_utm, \\\n",
    "                  wgs84.ExportToWkt(), utm48.ExportToWkt(), gdal.GRA_NearestNeighbour)\n",
    "dset_utm = None  ## 关闭文件\n"
   ]
  },
  {
   "attachments": {},
   "cell_type": "markdown",
   "metadata": {},
   "source": [
    "### 重采样"
   ]
  },
  {
   "cell_type": "code",
   "execution_count": 16,
   "metadata": {},
   "outputs": [
    {
     "name": "stdout",
     "output_type": "stream",
     "text": [
      "602 677\n",
      "50.07119416739694 50.02241630860132\n"
     ]
    }
   ],
   "source": [
    "res=50  ## 定义分辨率\n",
    "### 1.计算影像尺寸\n",
    "x_size = int((x_max_utm - x_min_utm)/res)  ## x方向尺寸\n",
    "y_size = int((y_max_utm - y_min_utm)/res)   ## y方向尺寸\n",
    "print(x_size, y_size)\n",
    "### 2.更新影像分辨率\n",
    "res_x = (x_max_utm - x_min_utm)/x_size  ##  新的x方向分辨率（像元宽）\n",
    "res_y = (y_max_utm - y_min_utm)/y_size  ##  新的y方向分辨率（像元高）\n",
    "print(res_x, res_y)\n",
    "### 3. 定义地理转换参数\n",
    "geotrans_resample = (268239.7411192706, 50.017679524931665, 0, 2766162.361361425, 0, -50.00278992423364)\n"
   ]
  },
  {
   "cell_type": "code",
   "execution_count": 17,
   "metadata": {},
   "outputs": [],
   "source": [
    "driver = gdal.GetDriverByName('GTiff')\n",
    "dset_resample = driver.Create('data/Section-5/s2_chenggong_utm48_resample.tif', xsize=x_size, \\\n",
    "                                ysize=y_size, bands=dset.RasterCount, eType=gdal.GDT_Int16)\n",
    "dset_resample.SetGeoTransform(geotrans_resample)\n",
    "dset_resample.SetProjection(proj_new)\n",
    "## 影像重投影\n",
    "reproj = gdal.ReprojectImage(dset, dset_resample, \\\n",
    "                  wgs84.ExportToWkt(), utm48.ExportToWkt(), gdal.GRA_NearestNeighbour)\n",
    "dset_resample = None  ## 关闭文件\n"
   ]
  },
  {
   "attachments": {},
   "cell_type": "markdown",
   "metadata": {},
   "source": [
    "### 快捷方式\n",
    "主要函数：gdal.Warp()/gdalwarp   \n",
    "参考：   \n",
    "1.https://gdal.org/api/python/osgeo.gdal.html.   \n",
    "2.https://gdal.org/programs/gdalwarp.html"
   ]
  },
  {
   "cell_type": "code",
   "execution_count": 19,
   "metadata": {},
   "outputs": [],
   "source": [
    "path_dset = 'data/Section-2/s2_chenggong_20200411_6bands_20m_wgs84.tif'\n",
    "path_dset_reproj = 'data/Section-5/s2_chenggong_20200411_6bands_20m_reproj2utm48_by_warp.tif'\n",
    "path_dset_resam = 'data/Section-5/s2_chenggong_20200411_6bands_20m_utm48_resam_by_warp.tif'\n",
    "### 重投影\n",
    "warp_reproj = gdal.Warp(destNameOrDestDS=path_dset_reproj, srcDSOrSrcDSTab=path_dset, dstSRS='EPSG:32648')  ### 利用gdal.Warp()进行投影转换\n",
    "warp_reproj = None   ### !!关闭文件\n"
   ]
  },
  {
   "cell_type": "code",
   "execution_count": 20,
   "metadata": {},
   "outputs": [],
   "source": [
    "### 重采样\n",
    "warp_resam = gdal.Warp(destNameOrDestDS=path_dset_resam, srcDSOrSrcDSTab=path_dset_reproj, xRes=50, yRes=50)  ### 利用gdal.Warp()进行投影转换\n",
    "warp_resam = None   ### !!关闭文件\n",
    "\n"
   ]
  }
 ],
 "metadata": {
  "kernelspec": {
   "display_name": "venv",
   "language": "python",
   "name": "python3"
  },
  "language_info": {
   "codemirror_mode": {
    "name": "ipython",
    "version": 3
   },
   "file_extension": ".py",
   "mimetype": "text/x-python",
   "name": "python",
   "nbconvert_exporter": "python",
   "pygments_lexer": "ipython3",
   "version": "3.9.15"
  },
  "orig_nbformat": 4
 },
 "nbformat": 4,
 "nbformat_minor": 2
}
